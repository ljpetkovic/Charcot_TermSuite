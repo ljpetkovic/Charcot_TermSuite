{
  "nbformat": 4,
  "nbformat_minor": 0,
  "metadata": {
    "colab": {
      "provenance": [],
      "authorship_tag": "ABX9TyMxW7S7XhIj3/0gmgRJr8Cc",
      "include_colab_link": true
    },
    "kernelspec": {
      "name": "python3",
      "display_name": "Python 3"
    },
    "language_info": {
      "name": "python"
    }
  },
  "cells": [
    {
      "cell_type": "markdown",
      "metadata": {
        "id": "view-in-github",
        "colab_type": "text"
      },
      "source": [
        "<a href=\"https://colab.research.google.com/github/ljpetkovic/Charcot_TermSuite/blob/main/scripts/common_terms.ipynb\" target=\"_parent\"><img src=\"https://colab.research.google.com/assets/colab-badge.svg\" alt=\"Open In Colab\"/></a>"
      ]
    },
    {
      "cell_type": "code",
      "execution_count": 9,
      "metadata": {
        "colab": {
          "base_uri": "https://localhost:8080/"
        },
        "id": "jaqphjOtyvfV",
        "outputId": "82005b9c-f91b-4886-eee4-3f5d0e99d980"
      },
      "outputs": [
        {
          "output_type": "stream",
          "name": "stdout",
          "text": [
            "File saved: /content/common_terms.csv\n"
          ]
        }
      ],
      "source": [
        "import pandas as pd\n",
        "\n",
        "# Load the ODS file\n",
        "file_path = \"/content/common_terms.ods\"  # Replace with your actual file path\n",
        "df = pd.read_excel(file_path, engine=\"odf\")  # ODS files use engine=\"odf\"\n",
        "\n",
        "# Assuming the two columns are named 'Column1' and 'Column2'\n",
        "column1_terms = set(df.iloc[:, 0].dropna())  # Convert to set and remove NaNs\n",
        "column2_terms = set(df.iloc[:, 1].dropna())\n",
        "\n",
        "# Find common terms\n",
        "common_terms = column1_terms.intersection(column2_terms)\n",
        "\n",
        "# Convert result to a DataFrame\n",
        "common_terms_df = pd.DataFrame(sorted(common_terms), columns=[\"Common Terms\"])\n",
        "\n",
        "output_path = \"/content/common_terms.csv\"\n",
        "common_terms_df.to_csv(output_path, index=False)\n",
        "print(f\"File saved: {output_path}\")\n"
      ]
    }
  ]
}