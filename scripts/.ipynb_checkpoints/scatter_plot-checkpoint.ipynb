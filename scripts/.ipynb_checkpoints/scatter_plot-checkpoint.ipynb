{
  "nbformat": 4,
  "nbformat_minor": 0,
  "metadata": {
    "colab": {
      "provenance": [],
      "authorship_tag": "ABX9TyP3msvnzqtZLBHFPTv53E/I",
      "include_colab_link": true
    },
    "kernelspec": {
      "name": "python3",
      "display_name": "Python 3"
    },
    "language_info": {
      "name": "python"
    }
  },
  "cells": [
    {
      "cell_type": "markdown",
      "metadata": {
        "id": "view-in-github",
        "colab_type": "text"
      },
      "source": [
        "<a href=\"https://colab.research.google.com/github/ljpetkovic/Charcot_TermSuite/blob/main/scripts/scatter_plot.ipynb\" target=\"_parent\"><img src=\"https://colab.research.google.com/assets/colab-badge.svg\" alt=\"Open In Colab\"/></a>"
      ]
    },
    {
      "cell_type": "code",
      "execution_count": null,
      "metadata": {
        "id": "L9yxrN0aEcIm"
      },
      "outputs": [],
      "source": [
        "import pandas as pd\n",
        "import matplotlib.pyplot as plt\n",
        "\n",
        "# Load dataset\n",
        "file_path = \"charcot_autres_mini.csv\"\n",
        "df = pd.read_csv(file_path)\n",
        "\n",
        "# Convert tf-idf values from string to float\n",
        "df['tfIdf_Charcot'] = df['tfIdf_Charcot'].astype(str).str.replace(',', '.').astype(float)\n",
        "df['tfIdf_Autres'] = df['tfIdf_Autres'].astype(str).str.replace(',', '.').astype(float)\n",
        "\n",
        "# Identify common terms\n",
        "common_terms = set(df['lemma_Charcot']).intersection(set(df['lemma_Autres']))\n",
        "\n",
        "# Filter dataset\n",
        "df_common = df[df['lemma_Charcot'].isin(common_terms) & df['lemma_Autres'].isin(common_terms)]\n",
        "\n",
        "# Plot\n",
        "plt.figure(figsize=(12, 8))\n",
        "for _, row in df_common.iterrows():\n",
        "    plt.scatter(row['tfIdf_Charcot'], row['tfIdf_Autres'], label=row['lemma_Charcot'], alpha=0.7, edgecolors='k')\n",
        "\n",
        "# Annotate points\n",
        "for _, row in df_common.iterrows():\n",
        "    plt.text(row['tfIdf_Charcot'], row['tfIdf_Autres'], row['lemma_Charcot'], fontsize=10, ha='right', va='bottom', bbox=dict(facecolor='white', alpha=0.5, edgecolor='gray'))\n",
        "\n",
        "plt.xlabel(\"TF-IDF (Charcot)\")\n",
        "plt.ylabel(\"TF-IDF (Autres)\")\n",
        "plt.title(\"Common Terms TF-IDF Values (Charcot vs Autres)\")\n",
        "plt.grid(True, linestyle='--', linewidth=0.5)\n",
        "plt.xticks(fontsize=10)\n",
        "plt.yticks(fontsize=10)\n",
        "plt.show()"
      ]
    }
  ]
}